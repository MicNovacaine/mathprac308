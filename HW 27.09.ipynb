{
 "cells": [
  {
   "cell_type": "markdown",
   "metadata": {},
   "source": [
    "Hometask 27.09"
   ]
  },
  {
   "cell_type": "code",
   "execution_count": 22,
   "metadata": {},
   "outputs": [],
   "source": [
    "class Test:\n",
    "    @staticmethod\n",
    "    def assert_equals(a, b, *args, **kwargs):\n",
    "        assert a == b\n",
    "        print('Passed')"
   ]
  },
  {
   "cell_type": "markdown",
   "metadata": {},
   "source": [
    "Problem https://edabit.com/challenge/2zKetgAJp4WRFXiDT (2)"
   ]
  },
  {
   "cell_type": "code",
   "execution_count": 19,
   "metadata": {},
   "outputs": [
    {
     "data": {
      "text/plain": [
       "2"
      ]
     },
     "execution_count": 19,
     "metadata": {},
     "output_type": "execute_result"
    }
   ],
   "source": [
    "def number_length(x):\n",
    "    i=0\n",
    "    while 1>0:\n",
    "        x=x//10\n",
    "        i=i+1\n",
    "        if x==0:\n",
    "            break\n",
    "    return i\n",
    "    "
   ]
  },
  {
   "cell_type": "code",
   "execution_count": 4,
   "metadata": {},
   "outputs": [
    {
     "name": "stdout",
     "output_type": "stream",
     "text": [
      "Passed\n",
      "Passed\n",
      "Passed\n",
      "Passed\n",
      "Passed\n",
      "Passed\n",
      "Passed\n"
     ]
    }
   ],
   "source": [
    "Test.assert_equals(number_length(10), 2)\n",
    "Test.assert_equals(number_length(5000), 4)\n",
    "Test.assert_equals(number_length(0), 1)\n",
    "Test.assert_equals(number_length(4039182), 7)\n",
    "Test.assert_equals(number_length(9999999999999999), 16)\n",
    "Test.assert_equals(number_length(1), 1)\n",
    "Test.assert_equals(number_length(777777777777777777777777777777), 30)"
   ]
  },
  {
   "cell_type": "markdown",
   "metadata": {},
   "source": [
    "Problem https://edabit.com/challenge/noqQNSr5o9qzvXWzL (2)"
   ]
  },
  {
   "cell_type": "code",
   "execution_count": 7,
   "metadata": {},
   "outputs": [],
   "source": [
    "def shift_to_right(x, y):\n",
    "    return x//(2**y)"
   ]
  },
  {
   "cell_type": "code",
   "execution_count": 8,
   "metadata": {},
   "outputs": [
    {
     "ename": "AttributeError",
     "evalue": "type object 'Test' has no attribute 'assert_not_equals'",
     "output_type": "error",
     "traceback": [
      "\u001b[1;31m---------------------------------------------------------------------------\u001b[0m",
      "\u001b[1;31mAttributeError\u001b[0m                            Traceback (most recent call last)",
      "\u001b[1;32m<ipython-input-8-f530dd8cd9d1>\u001b[0m in \u001b[0;36m<module>\u001b[1;34m()\u001b[0m\n\u001b[0;32m      6\u001b[0m   \u001b[1;32mexcept\u001b[0m \u001b[0mOSError\u001b[0m\u001b[1;33m:\u001b[0m \u001b[1;32mreturn\u001b[0m \u001b[1;32mTrue\u001b[0m\u001b[1;33m\u001b[0m\u001b[0m\n\u001b[0;32m      7\u001b[0m \u001b[1;33m\u001b[0m\u001b[0m\n\u001b[1;32m----> 8\u001b[1;33m Test.assert_not_equals(check_op(shift_to_right), False,\n\u001b[0m\u001b[0;32m      9\u001b[0m                        'The use of right shift operator (>>) is prohibited!')\n\u001b[0;32m     10\u001b[0m \u001b[1;33m\u001b[0m\u001b[0m\n",
      "\u001b[1;31mAttributeError\u001b[0m: type object 'Test' has no attribute 'assert_not_equals'"
     ]
    }
   ],
   "source": [
    "from inspect import getsource\n",
    "from re import findall, MULTILINE\n",
    "\n",
    "def check_op(fn):\n",
    "  try: return not len(findall(r'>>', getsource(fn), flags=MULTILINE))\n",
    "  except OSError: return True\n",
    "\n",
    "Test.assert_not_equals(check_op(shift_to_right), False,\n",
    "                       'The use of right shift operator (>>) is prohibited!')\n",
    "\n",
    "num_vector = [[80, 3], [-24, 2], [-5, 1], [38, 0], [192, 4], [4666, 6], [3777, 6], [1024, 5], [-512, 10]]\n",
    "res_vector = [10, -6, -3, 38, 12, 72, 59, 32, -1]\n",
    "for i, (x, y) in enumerate(num_vector): Test.assert_equals(shift_to_right(x, y), res_vector[i])"
   ]
  },
  {
   "cell_type": "markdown",
   "metadata": {},
   "source": [
    "Не нашёл оперделение assert_not_equals. На сайте все тесты прошли."
   ]
  },
  {
   "cell_type": "markdown",
   "metadata": {},
   "source": [
    "Problem https://edabit.com/challenge/Wd9cCvFKC3fHzgqSx (4)"
   ]
  },
  {
   "cell_type": "code",
   "execution_count": 1,
   "metadata": {},
   "outputs": [],
   "source": [
    "def num_split(num):\n",
    "    a=[]\n",
    "    i=1\n",
    "    if num>=0:\n",
    "        while 1>0:\n",
    "            a.append(i*(num%10))\n",
    "            num=num//10\n",
    "            i=i*10\n",
    "            if num==0:\n",
    "                break\n",
    "        return list(reversed(a))\n",
    "    else:\n",
    "        num=num*(-1)\n",
    "        while 1>0:\n",
    "            a.append((-1)*i*(num%10))\n",
    "            num=num//10\n",
    "            i=i*10\n",
    "            if num==0:\n",
    "                break\n",
    "        return list(reversed(a))\n",
    "    "
   ]
  },
  {
   "cell_type": "code",
   "execution_count": 4,
   "metadata": {},
   "outputs": [
    {
     "name": "stdout",
     "output_type": "stream",
     "text": [
      "Passed\n",
      "Passed\n",
      "Passed\n",
      "Passed\n",
      "Passed\n",
      "Passed\n",
      "Passed\n"
     ]
    }
   ],
   "source": [
    "Test.assert_equals(num_split(39), [30, 9])\n",
    "Test.assert_equals(num_split(-434), [-400, -30, -4])\n",
    "Test.assert_equals(num_split(100), [100, 0, 0])\n",
    "Test.assert_equals(num_split(3929), [3000, 900, 20, 9])\n",
    "Test.assert_equals(num_split(10293), [10000, 0, 200, 90, 3])\n",
    "Test.assert_equals(num_split(900), [900, 0, 0])\n",
    "Test.assert_equals(num_split(-100), [-100, 0, 0])"
   ]
  },
  {
   "cell_type": "markdown",
   "metadata": {},
   "source": [
    "Problem https://edabit.com/challenge/5ZDz5nDDPdfg5BH8K (4)"
   ]
  },
  {
   "cell_type": "code",
   "execution_count": 7,
   "metadata": {},
   "outputs": [],
   "source": [
    "def only_5_and_3(n):\n",
    "    if n<3:\n",
    "        return False\n",
    "    if n==3:\n",
    "        return True\n",
    "    if n==5:\n",
    "        return True\n",
    "    if n%3==0:\n",
    "        return only_5_and_3(n//3) or only_5_and_3(n-5)\n",
    "    else:\n",
    "        return only_5_and_3(n-5)\n",
    "    "
   ]
  },
  {
   "cell_type": "code",
   "execution_count": 8,
   "metadata": {},
   "outputs": [
    {
     "name": "stdout",
     "output_type": "stream",
     "text": [
      "Passed\n",
      "Passed\n",
      "Passed\n",
      "Passed\n",
      "Passed\n",
      "Passed\n",
      "Passed\n",
      "Passed\n",
      "Passed\n",
      "Passed\n"
     ]
    }
   ],
   "source": [
    "Test.assert_equals(only_5_and_3(14), True, \"See example #1\")\n",
    "Test.assert_equals(only_5_and_3(25), True, \"See example #2\")\n",
    "Test.assert_equals(only_5_and_3(7), False, \"See example #3\")\n",
    "Test.assert_equals(only_5_and_3(2), False)\n",
    "Test.assert_equals(only_5_and_3(43), True)\n",
    "Test.assert_equals(only_5_and_3(33), True)\n",
    "Test.assert_equals(only_5_and_3(51), False)\n",
    "Test.assert_equals(only_5_and_3(91), True)\n",
    "Test.assert_equals(only_5_and_3(378), True)\n",
    "Test.assert_equals(only_5_and_3(627), True)"
   ]
  },
  {
   "cell_type": "markdown",
   "metadata": {},
   "source": [
    "Problem https://edabit.com/challenge/j9zed4GnykS48W6vh (5)"
   ]
  },
  {
   "cell_type": "code",
   "execution_count": 24,
   "metadata": {},
   "outputs": [],
   "source": [
    "def number_length(x):\n",
    "    i=0\n",
    "    while 1>0:\n",
    "        x=x//10\n",
    "        i=i+1\n",
    "        if x==0:\n",
    "            break\n",
    "    return i\n",
    "def digits(number):\n",
    "    t=0\n",
    "    k=number_length(number)\n",
    "    t=t+(number-(10**(k-1)))*(k)\n",
    "    for i in range(k-1):\n",
    "        t=t+9*(i+1)*10**i\n",
    "    return t"
   ]
  },
  {
   "cell_type": "code",
   "execution_count": 25,
   "metadata": {},
   "outputs": [
    {
     "name": "stdout",
     "output_type": "stream",
     "text": [
      "Passed\n",
      "Passed\n",
      "Passed\n",
      "Passed\n",
      "Passed\n",
      "Passed\n",
      "Passed\n",
      "Passed\n"
     ]
    }
   ],
   "source": [
    "Test.assert_equals(digits(1), 0)\n",
    "Test.assert_equals(digits(10), 9)\n",
    "Test.assert_equals(digits(100), 189)\n",
    "Test.assert_equals(digits(2020), 6969)\n",
    "Test.assert_equals(digits(103496754), 820359675)\n",
    "Test.assert_equals(digits(3248979384), 31378682729)\n",
    "Test.assert_equals(digits(122398758003456), 1724870258940729)\n",
    "Test.assert_equals(digits(58473029386609125789), 1158349476621071404669)"
   ]
  },
  {
   "cell_type": "code",
   "execution_count": null,
   "metadata": {},
   "outputs": [],
   "source": []
  }
 ],
 "metadata": {
  "kernelspec": {
   "display_name": "Python 3",
   "language": "python",
   "name": "python3"
  },
  "language_info": {
   "codemirror_mode": {
    "name": "ipython",
    "version": 3
   },
   "file_extension": ".py",
   "mimetype": "text/x-python",
   "name": "python",
   "nbconvert_exporter": "python",
   "pygments_lexer": "ipython3",
   "version": "3.7.0"
  }
 },
 "nbformat": 4,
 "nbformat_minor": 2
}
